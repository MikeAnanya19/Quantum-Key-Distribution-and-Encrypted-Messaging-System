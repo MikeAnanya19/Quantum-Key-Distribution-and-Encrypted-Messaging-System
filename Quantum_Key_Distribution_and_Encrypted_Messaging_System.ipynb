{
  "nbformat": 4,
  "nbformat_minor": 0,
  "metadata": {
    "colab": {
      "provenance": []
    },
    "kernelspec": {
      "name": "python3",
      "display_name": "Python 3"
    },
    "language_info": {
      "name": "python"
    }
  },
  "cells": [
    {
      "cell_type": "code",
      "source": [
        "pip install qiskit opencv-python pycryptodome"
      ],
      "metadata": {
        "id": "1DTimgiqI12T"
      },
      "execution_count": null,
      "outputs": []
    },
    {
      "cell_type": "code",
      "execution_count": null,
      "metadata": {
        "id": "4TqreQdDIegz"
      },
      "outputs": [],
      "source": [
        "import cv2\n",
        "import numpy as np\n",
        "from qiskit import QuantumCircuit, Aer, transpile\n",
        "from qiskit.providers.aer import AerSimulator\n",
        "from Crypto.Cipher import AES\n",
        "import base64\n",
        "\n",
        "# 1. Generate Quantum Key (BB84 Simulation)\n",
        "def generate_quantum_key():\n",
        "    qc = QuantumCircuit(1, 1)\n",
        "    qc.h(0)\n",
        "    qc.measure(0, 0)\n",
        "    simulator = AerSimulator()\n",
        "    compiled = transpile(qc, simulator)\n",
        "    result = simulator.run(compiled).result()\n",
        "    counts = result.get_counts()\n",
        "    key_bit = max(counts, key=counts.get)\n",
        "    quantum_key = (key_bit * 16)[:16]  # 16-bit AES-compatible\n",
        "    return quantum_key\n",
        "\n",
        "# 2. Embed Quantum Key in Image (LSB Steganography)\n",
        "def embed_key_in_image(image_path, key, output_path=\"encrypted_image.png\"):\n",
        "    img = cv2.imread(image_path)\n",
        "    binary_key = ''.join(format(ord(c), '08b') for c in key)\n",
        "    index = 0\n",
        "    for i in range(img.shape[0]):\n",
        "        for j in range(img.shape[1]):\n",
        "            for k in range(3):  # R, G, B\n",
        "                if index < len(binary_key):\n",
        "                    img[i, j, k] = (img[i, j, k] & ~1) | int(binary_key[index])\n",
        "                    index += 1\n",
        "    cv2.imwrite(output_path, img)\n",
        "\n",
        "# 3. Extract Key from Image\n",
        "def extract_key_from_image(image_path, key_length=16):\n",
        "    img = cv2.imread(image_path)\n",
        "    binary_key = ''\n",
        "    index = 0\n",
        "    for i in range(img.shape[0]):\n",
        "        for j in range(img.shape[1]):\n",
        "            for k in range(3):\n",
        "                if index < key_length * 8:\n",
        "                    binary_key += str(img[i, j, k] & 1)\n",
        "                    index += 1\n",
        "    chars = [binary_key[i:i+8] for i in range(0, len(binary_key), 8)]\n",
        "    return ''.join(chr(int(c, 2)) for c in chars)\n",
        "\n",
        "# 4. AES-256 Encryption and Decryption\n",
        "def pad_key(key):\n",
        "    return key.ljust(32)[:32]  # pad or truncate to 32 bytes for AES-256\n",
        "\n",
        "def encrypt_message(message, key):\n",
        "    cipher = AES.new(pad_key(key).encode(), AES.MODE_ECB)\n",
        "    encrypted = cipher.encrypt(message.ljust(32).encode())\n",
        "    return base64.b64encode(encrypted).decode()\n",
        "\n",
        "def decrypt_message(encrypted_message, key):\n",
        "    cipher = AES.new(pad_key(key).encode(), AES.MODE_ECB)\n",
        "    decrypted = cipher.decrypt(base64.b64decode(encrypted_message))\n",
        "    return decrypted.strip().decode()\n",
        "\n",
        "# === Run the Flow ===\n",
        "image_path = \"sample.png\"  # Use any .png image with enough size\n",
        "message = \"Confidential: QKD Project\"\n",
        "\n",
        "# Step 1: Generate Quantum Key\n",
        "q_key = generate_quantum_key()\n",
        "print(\"Quantum Key:\", q_key)\n",
        "\n",
        "# Step 2: Embed into image\n",
        "embed_key_in_image(image_path, q_key)\n",
        "\n",
        "# Step 3: Extract the key\n",
        "extracted_key = extract_key_from_image(\"encrypted_image.png\")\n",
        "print(\"Extracted Key:\", extracted_key)\n",
        "\n",
        "# Step 4: Encrypt and Decrypt\n",
        "encrypted_msg = encrypt_message(message, extracted_key)\n",
        "print(\"Encrypted:\", encrypted_msg)\n",
        "\n",
        "decrypted_msg = decrypt_message(encrypted_msg, extracted_key)\n",
        "print(\"Decrypted:\", decrypted_msg)"
      ]
    }
  ]
}